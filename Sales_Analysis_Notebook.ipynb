{
  "cells": [
    {
      "cell_type": "markdown",
      "metadata": {
        "id": "44ed1bcf"
      },
      "source": [
        "### 📚 Importing Libraries\n",
        "In this step, we import the required Python libraries such as `pandas` (for data handling), `numpy` (for numerical operations), `matplotlib/seaborn` (for visualization), and `sklearn` (for machine learning)."
      ]
    },
    {
      "cell_type": "code",
      "execution_count": 1,
      "metadata": {
        "id": "zHOz7aDKgFOH"
      },
      "outputs": [],
      "source": [
        "# Step 1: Import basic libraries\n",
        "import pandas as pd\n",
        "import numpy as np\n",
        "import matplotlib.pyplot as plt\n",
        "import seaborn as sns\n",
        "\n",
        "from sklearn.model_selection import train_test_split\n",
        "from sklearn.linear_model import LinearRegression\n",
        "from sklearn.ensemble import RandomForestRegressor\n",
        "from sklearn.metrics import mean_squared_error, r2_score\n",
        "from sklearn.preprocessing import OneHotEncoder, RobustScaler\n",
        "from sklearn.compose import ColumnTransformer\n",
        "from sklearn.pipeline import Pipeline\n",
        "from sklearn.impute import SimpleImputer\n",
        "\n",
        "# reproducibility\n",
        "np.random.seed(42)"
      ]
    },
    {
      "cell_type": "markdown",
      "metadata": {
        "id": "ab84aa74"
      },
      "source": [
        "### 📂 Loading the Dataset\n",
        "Here, we load the dataset into a pandas DataFrame and perform an initial check (first few rows, shape, and column info) to understand the structure of the data."
      ]
    },
    {
      "cell_type": "code",
      "execution_count": 2,
      "metadata": {
        "colab": {
          "base_uri": "https://localhost:8080/",
          "height": 223
        },
        "id": "JMPyybcHh85Q",
        "outputId": "dd5bbe2d-a54f-4117-d974-d2fb981807b7"
      },
      "outputs": [
        {
          "output_type": "stream",
          "name": "stdout",
          "text": [
            "Data shape: (35000, 8)\n"
          ]
        },
        {
          "output_type": "execute_result",
          "data": {
            "text/plain": [
              "   Store_ID       Date       Category        Brand Units_Sold  Revenue  \\\n",
              "0   Store_3  4/12/2024         Snacks      Doritos         24  1924.13   \n",
              "1   Store_4  5/10/2024      Beverages      RedBull         25   659.11   \n",
              "2   Store_8  6/18/2024      Household    SurfExcel         16  1050.48   \n",
              "3   Store_2  1/18/2024  Personal Care     Himalaya         24   450.97   \n",
              "4  Store_17  6/12/2024          Dairy  MotherDairy         15   723.96   \n",
              "\n",
              "   Discount%  Customer_Rating  \n",
              "0      17.91         1.399900  \n",
              "1       5.50         3.099026  \n",
              "2      11.47         2.867052  \n",
              "3      20.53         1.488153  \n",
              "4       6.24         1.125253  "
            ],
            "text/html": [
              "\n",
              "  <div id=\"df-7f5d460c-730c-4fa9-a0b8-1bf29ef35663\" class=\"colab-df-container\">\n",
              "    <div>\n",
              "<style scoped>\n",
              "    .dataframe tbody tr th:only-of-type {\n",
              "        vertical-align: middle;\n",
              "    }\n",
              "\n",
              "    .dataframe tbody tr th {\n",
              "        vertical-align: top;\n",
              "    }\n",
              "\n",
              "    .dataframe thead th {\n",
              "        text-align: right;\n",
              "    }\n",
              "</style>\n",
              "<table border=\"1\" class=\"dataframe\">\n",
              "  <thead>\n",
              "    <tr style=\"text-align: right;\">\n",
              "      <th></th>\n",
              "      <th>Store_ID</th>\n",
              "      <th>Date</th>\n",
              "      <th>Category</th>\n",
              "      <th>Brand</th>\n",
              "      <th>Units_Sold</th>\n",
              "      <th>Revenue</th>\n",
              "      <th>Discount%</th>\n",
              "      <th>Customer_Rating</th>\n",
              "    </tr>\n",
              "  </thead>\n",
              "  <tbody>\n",
              "    <tr>\n",
              "      <th>0</th>\n",
              "      <td>Store_3</td>\n",
              "      <td>4/12/2024</td>\n",
              "      <td>Snacks</td>\n",
              "      <td>Doritos</td>\n",
              "      <td>24</td>\n",
              "      <td>1924.13</td>\n",
              "      <td>17.91</td>\n",
              "      <td>1.399900</td>\n",
              "    </tr>\n",
              "    <tr>\n",
              "      <th>1</th>\n",
              "      <td>Store_4</td>\n",
              "      <td>5/10/2024</td>\n",
              "      <td>Beverages</td>\n",
              "      <td>RedBull</td>\n",
              "      <td>25</td>\n",
              "      <td>659.11</td>\n",
              "      <td>5.50</td>\n",
              "      <td>3.099026</td>\n",
              "    </tr>\n",
              "    <tr>\n",
              "      <th>2</th>\n",
              "      <td>Store_8</td>\n",
              "      <td>6/18/2024</td>\n",
              "      <td>Household</td>\n",
              "      <td>SurfExcel</td>\n",
              "      <td>16</td>\n",
              "      <td>1050.48</td>\n",
              "      <td>11.47</td>\n",
              "      <td>2.867052</td>\n",
              "    </tr>\n",
              "    <tr>\n",
              "      <th>3</th>\n",
              "      <td>Store_2</td>\n",
              "      <td>1/18/2024</td>\n",
              "      <td>Personal Care</td>\n",
              "      <td>Himalaya</td>\n",
              "      <td>24</td>\n",
              "      <td>450.97</td>\n",
              "      <td>20.53</td>\n",
              "      <td>1.488153</td>\n",
              "    </tr>\n",
              "    <tr>\n",
              "      <th>4</th>\n",
              "      <td>Store_17</td>\n",
              "      <td>6/12/2024</td>\n",
              "      <td>Dairy</td>\n",
              "      <td>MotherDairy</td>\n",
              "      <td>15</td>\n",
              "      <td>723.96</td>\n",
              "      <td>6.24</td>\n",
              "      <td>1.125253</td>\n",
              "    </tr>\n",
              "  </tbody>\n",
              "</table>\n",
              "</div>\n",
              "    <div class=\"colab-df-buttons\">\n",
              "\n",
              "  <div class=\"colab-df-container\">\n",
              "    <button class=\"colab-df-convert\" onclick=\"convertToInteractive('df-7f5d460c-730c-4fa9-a0b8-1bf29ef35663')\"\n",
              "            title=\"Convert this dataframe to an interactive table.\"\n",
              "            style=\"display:none;\">\n",
              "\n",
              "  <svg xmlns=\"http://www.w3.org/2000/svg\" height=\"24px\" viewBox=\"0 -960 960 960\">\n",
              "    <path d=\"M120-120v-720h720v720H120Zm60-500h600v-160H180v160Zm220 220h160v-160H400v160Zm0 220h160v-160H400v160ZM180-400h160v-160H180v160Zm440 0h160v-160H620v160ZM180-180h160v-160H180v160Zm440 0h160v-160H620v160Z\"/>\n",
              "  </svg>\n",
              "    </button>\n",
              "\n",
              "  <style>\n",
              "    .colab-df-container {\n",
              "      display:flex;\n",
              "      gap: 12px;\n",
              "    }\n",
              "\n",
              "    .colab-df-convert {\n",
              "      background-color: #E8F0FE;\n",
              "      border: none;\n",
              "      border-radius: 50%;\n",
              "      cursor: pointer;\n",
              "      display: none;\n",
              "      fill: #1967D2;\n",
              "      height: 32px;\n",
              "      padding: 0 0 0 0;\n",
              "      width: 32px;\n",
              "    }\n",
              "\n",
              "    .colab-df-convert:hover {\n",
              "      background-color: #E2EBFA;\n",
              "      box-shadow: 0px 1px 2px rgba(60, 64, 67, 0.3), 0px 1px 3px 1px rgba(60, 64, 67, 0.15);\n",
              "      fill: #174EA6;\n",
              "    }\n",
              "\n",
              "    .colab-df-buttons div {\n",
              "      margin-bottom: 4px;\n",
              "    }\n",
              "\n",
              "    [theme=dark] .colab-df-convert {\n",
              "      background-color: #3B4455;\n",
              "      fill: #D2E3FC;\n",
              "    }\n",
              "\n",
              "    [theme=dark] .colab-df-convert:hover {\n",
              "      background-color: #434B5C;\n",
              "      box-shadow: 0px 1px 3px 1px rgba(0, 0, 0, 0.15);\n",
              "      filter: drop-shadow(0px 1px 2px rgba(0, 0, 0, 0.3));\n",
              "      fill: #FFFFFF;\n",
              "    }\n",
              "  </style>\n",
              "\n",
              "    <script>\n",
              "      const buttonEl =\n",
              "        document.querySelector('#df-7f5d460c-730c-4fa9-a0b8-1bf29ef35663 button.colab-df-convert');\n",
              "      buttonEl.style.display =\n",
              "        google.colab.kernel.accessAllowed ? 'block' : 'none';\n",
              "\n",
              "      async function convertToInteractive(key) {\n",
              "        const element = document.querySelector('#df-7f5d460c-730c-4fa9-a0b8-1bf29ef35663');\n",
              "        const dataTable =\n",
              "          await google.colab.kernel.invokeFunction('convertToInteractive',\n",
              "                                                    [key], {});\n",
              "        if (!dataTable) return;\n",
              "\n",
              "        const docLinkHtml = 'Like what you see? Visit the ' +\n",
              "          '<a target=\"_blank\" href=https://colab.research.google.com/notebooks/data_table.ipynb>data table notebook</a>'\n",
              "          + ' to learn more about interactive tables.';\n",
              "        element.innerHTML = '';\n",
              "        dataTable['output_type'] = 'display_data';\n",
              "        await google.colab.output.renderOutput(dataTable, element);\n",
              "        const docLink = document.createElement('div');\n",
              "        docLink.innerHTML = docLinkHtml;\n",
              "        element.appendChild(docLink);\n",
              "      }\n",
              "    </script>\n",
              "  </div>\n",
              "\n",
              "\n",
              "    <div id=\"df-e6d0a88a-c3f6-4265-b848-8aa0b9b36f34\">\n",
              "      <button class=\"colab-df-quickchart\" onclick=\"quickchart('df-e6d0a88a-c3f6-4265-b848-8aa0b9b36f34')\"\n",
              "                title=\"Suggest charts\"\n",
              "                style=\"display:none;\">\n",
              "\n",
              "<svg xmlns=\"http://www.w3.org/2000/svg\" height=\"24px\"viewBox=\"0 0 24 24\"\n",
              "     width=\"24px\">\n",
              "    <g>\n",
              "        <path d=\"M19 3H5c-1.1 0-2 .9-2 2v14c0 1.1.9 2 2 2h14c1.1 0 2-.9 2-2V5c0-1.1-.9-2-2-2zM9 17H7v-7h2v7zm4 0h-2V7h2v10zm4 0h-2v-4h2v4z\"/>\n",
              "    </g>\n",
              "</svg>\n",
              "      </button>\n",
              "\n",
              "<style>\n",
              "  .colab-df-quickchart {\n",
              "      --bg-color: #E8F0FE;\n",
              "      --fill-color: #1967D2;\n",
              "      --hover-bg-color: #E2EBFA;\n",
              "      --hover-fill-color: #174EA6;\n",
              "      --disabled-fill-color: #AAA;\n",
              "      --disabled-bg-color: #DDD;\n",
              "  }\n",
              "\n",
              "  [theme=dark] .colab-df-quickchart {\n",
              "      --bg-color: #3B4455;\n",
              "      --fill-color: #D2E3FC;\n",
              "      --hover-bg-color: #434B5C;\n",
              "      --hover-fill-color: #FFFFFF;\n",
              "      --disabled-bg-color: #3B4455;\n",
              "      --disabled-fill-color: #666;\n",
              "  }\n",
              "\n",
              "  .colab-df-quickchart {\n",
              "    background-color: var(--bg-color);\n",
              "    border: none;\n",
              "    border-radius: 50%;\n",
              "    cursor: pointer;\n",
              "    display: none;\n",
              "    fill: var(--fill-color);\n",
              "    height: 32px;\n",
              "    padding: 0;\n",
              "    width: 32px;\n",
              "  }\n",
              "\n",
              "  .colab-df-quickchart:hover {\n",
              "    background-color: var(--hover-bg-color);\n",
              "    box-shadow: 0 1px 2px rgba(60, 64, 67, 0.3), 0 1px 3px 1px rgba(60, 64, 67, 0.15);\n",
              "    fill: var(--button-hover-fill-color);\n",
              "  }\n",
              "\n",
              "  .colab-df-quickchart-complete:disabled,\n",
              "  .colab-df-quickchart-complete:disabled:hover {\n",
              "    background-color: var(--disabled-bg-color);\n",
              "    fill: var(--disabled-fill-color);\n",
              "    box-shadow: none;\n",
              "  }\n",
              "\n",
              "  .colab-df-spinner {\n",
              "    border: 2px solid var(--fill-color);\n",
              "    border-color: transparent;\n",
              "    border-bottom-color: var(--fill-color);\n",
              "    animation:\n",
              "      spin 1s steps(1) infinite;\n",
              "  }\n",
              "\n",
              "  @keyframes spin {\n",
              "    0% {\n",
              "      border-color: transparent;\n",
              "      border-bottom-color: var(--fill-color);\n",
              "      border-left-color: var(--fill-color);\n",
              "    }\n",
              "    20% {\n",
              "      border-color: transparent;\n",
              "      border-left-color: var(--fill-color);\n",
              "      border-top-color: var(--fill-color);\n",
              "    }\n",
              "    30% {\n",
              "      border-color: transparent;\n",
              "      border-left-color: var(--fill-color);\n",
              "      border-top-color: var(--fill-color);\n",
              "      border-right-color: var(--fill-color);\n",
              "    }\n",
              "    40% {\n",
              "      border-color: transparent;\n",
              "      border-right-color: var(--fill-color);\n",
              "      border-top-color: var(--fill-color);\n",
              "    }\n",
              "    60% {\n",
              "      border-color: transparent;\n",
              "      border-right-color: var(--fill-color);\n",
              "    }\n",
              "    80% {\n",
              "      border-color: transparent;\n",
              "      border-right-color: var(--fill-color);\n",
              "      border-bottom-color: var(--fill-color);\n",
              "    }\n",
              "    90% {\n",
              "      border-color: transparent;\n",
              "      border-bottom-color: var(--fill-color);\n",
              "    }\n",
              "  }\n",
              "</style>\n",
              "\n",
              "      <script>\n",
              "        async function quickchart(key) {\n",
              "          const quickchartButtonEl =\n",
              "            document.querySelector('#' + key + ' button');\n",
              "          quickchartButtonEl.disabled = true;  // To prevent multiple clicks.\n",
              "          quickchartButtonEl.classList.add('colab-df-spinner');\n",
              "          try {\n",
              "            const charts = await google.colab.kernel.invokeFunction(\n",
              "                'suggestCharts', [key], {});\n",
              "          } catch (error) {\n",
              "            console.error('Error during call to suggestCharts:', error);\n",
              "          }\n",
              "          quickchartButtonEl.classList.remove('colab-df-spinner');\n",
              "          quickchartButtonEl.classList.add('colab-df-quickchart-complete');\n",
              "        }\n",
              "        (() => {\n",
              "          let quickchartButtonEl =\n",
              "            document.querySelector('#df-e6d0a88a-c3f6-4265-b848-8aa0b9b36f34 button');\n",
              "          quickchartButtonEl.style.display =\n",
              "            google.colab.kernel.accessAllowed ? 'block' : 'none';\n",
              "        })();\n",
              "      </script>\n",
              "    </div>\n",
              "\n",
              "    </div>\n",
              "  </div>\n"
            ],
            "application/vnd.google.colaboratory.intrinsic+json": {
              "type": "dataframe",
              "variable_name": "df",
              "summary": "{\n  \"name\": \"df\",\n  \"rows\": 35000,\n  \"fields\": [\n    {\n      \"column\": \"Store_ID\",\n      \"properties\": {\n        \"dtype\": \"category\",\n        \"num_unique_values\": 20,\n        \"samples\": [\n          \"Store_3\",\n          \"Store_13\",\n          \"Store_19\"\n        ],\n        \"semantic_type\": \"\",\n        \"description\": \"\"\n      }\n    },\n    {\n      \"column\": \"Date\",\n      \"properties\": {\n        \"dtype\": \"object\",\n        \"num_unique_values\": 180,\n        \"samples\": [\n          \"5/7/2024\",\n          \"2/25/2024\",\n          \"5/25/2024\"\n        ],\n        \"semantic_type\": \"\",\n        \"description\": \"\"\n      }\n    },\n    {\n      \"column\": \"Category\",\n      \"properties\": {\n        \"dtype\": \"category\",\n        \"num_unique_values\": 6,\n        \"samples\": [\n          \"Snacks\",\n          \"Beverages\",\n          \"Frozen\"\n        ],\n        \"semantic_type\": \"\",\n        \"description\": \"\"\n      }\n    },\n    {\n      \"column\": \"Brand\",\n      \"properties\": {\n        \"dtype\": \"category\",\n        \"num_unique_values\": 23,\n        \"samples\": [\n          \"Sumeru\",\n          \"Dove\",\n          \"Doritos\"\n        ],\n        \"semantic_type\": \"\",\n        \"description\": \"\"\n      }\n    },\n    {\n      \"column\": \"Units_Sold\",\n      \"properties\": {\n        \"dtype\": \"category\",\n        \"num_unique_values\": 37,\n        \"samples\": [\n          \"30\",\n          \"32\",\n          \"23\"\n        ],\n        \"semantic_type\": \"\",\n        \"description\": \"\"\n      }\n    },\n    {\n      \"column\": \"Revenue\",\n      \"properties\": {\n        \"dtype\": \"number\",\n        \"std\": 586.4317927888611,\n        \"min\": 65.57,\n        \"max\": 3858.6,\n        \"num_unique_values\": 31888,\n        \"samples\": [\n          781.2,\n          1574.2,\n          719.49\n        ],\n        \"semantic_type\": \"\",\n        \"description\": \"\"\n      }\n    },\n    {\n      \"column\": \"Discount%\",\n      \"properties\": {\n        \"dtype\": \"number\",\n        \"std\": 8.72236067699438,\n        \"min\": 0.0,\n        \"max\": 30.0,\n        \"num_unique_values\": 3001,\n        \"samples\": [\n          24.76,\n          21.0,\n          24.41\n        ],\n        \"semantic_type\": \"\",\n        \"description\": \"\"\n      }\n    },\n    {\n      \"column\": \"Customer_Rating\",\n      \"properties\": {\n        \"dtype\": \"number\",\n        \"std\": 1.156630362212663,\n        \"min\": 1.000469406,\n        \"max\": 4.999895471,\n        \"num_unique_values\": 33258,\n        \"samples\": [\n          2.736176594,\n          3.80854684,\n          4.595540655\n        ],\n        \"semantic_type\": \"\",\n        \"description\": \"\"\n      }\n    }\n  ]\n}"
            }
          },
          "metadata": {},
          "execution_count": 2
        }
      ],
      "source": [
        "# Step 2: Load dataset\n",
        "df = pd.read_csv(\"sample_sales_dataset.csv\")\n",
        "print(\"Data shape:\", df.shape)\n",
        "df.head()"
      ]
    },
    {
      "cell_type": "markdown",
      "metadata": {
        "id": "b685907a"
      },
      "source": [
        "### 🔍 Exploratory Data Analysis (EDA)\n",
        "We explore the dataset to identify missing values, data types, and summary statistics. Visualizations are used to spot outliers and understand distributions of key variables like `Units_Sold` and `Discount%`."
      ]
    },
    {
      "cell_type": "code",
      "execution_count": 3,
      "metadata": {
        "colab": {
          "base_uri": "https://localhost:8080/"
        },
        "id": "cuJUsJ5xh_tL",
        "outputId": "fad2ae81-b773-4363-dcfa-993a07a701d5"
      },
      "outputs": [
        {
          "output_type": "stream",
          "name": "stdout",
          "text": [
            "Missing values before handling:\n",
            "\n",
            "Store_ID              0\n",
            "Date                  0\n",
            "Category              0\n",
            "Brand               682\n",
            "Units_Sold            0\n",
            "Revenue             338\n",
            "Discount%          3498\n",
            "Customer_Rating    1742\n",
            "dtype: int64\n"
          ]
        }
      ],
      "source": [
        "# Step 3: Check for missing values\n",
        "print(\"Missing values before handling:\\n\")\n",
        "print(df.isnull().sum())"
      ]
    },
    {
      "cell_type": "markdown",
      "metadata": {
        "id": "5aa91b2b"
      },
      "source": [
        "### 🛠 Handling Missing Values & Outliers\n",
        "Missing values are treated using appropriate strategies (mean/median for numeric features, mode for categorical). Outliers are handled using the IQR method or by capping values to avoid skewing the model."
      ]
    },
    {
      "cell_type": "code",
      "execution_count": 4,
      "metadata": {
        "colab": {
          "base_uri": "https://localhost:8080/"
        },
        "id": "MEFMeoqYiDDp",
        "outputId": "e4f3f575-c7c7-4872-bc2c-7d20884617d7"
      },
      "outputs": [
        {
          "output_type": "stream",
          "name": "stdout",
          "text": [
            "\n",
            "Filled Customer_Rating missing values with median = 3.00\n"
          ]
        }
      ],
      "source": [
        "# Fill missing Customer_Rating with median\n",
        "if df[\"Customer_Rating\"].isnull().sum() > 0:\n",
        "    median_rating = df[\"Customer_Rating\"].median()\n",
        "    df[\"Customer_Rating\"] = df[\"Customer_Rating\"].fillna(median_rating)\n",
        "    print(f\"\\nFilled Customer_Rating missing values with median = {median_rating:.2f}\")"
      ]
    },
    {
      "cell_type": "markdown",
      "metadata": {
        "id": "480bc3f8"
      },
      "source": [
        "### 🔑 Encoding Categorical Variables\n",
        "Since machine learning models work with numbers, categorical features (`Category`, `Brand`) are encoded using One-Hot or Label Encoding. This converts categories into numerical format without losing information."
      ]
    },
    {
      "cell_type": "code",
      "execution_count": 5,
      "metadata": {
        "id": "dMJ0JQtYiGTW"
      },
      "outputs": [],
      "source": [
        "# Fill other numeric cols if missing\n",
        "for col in [\"Units_Sold\", \"Discount%\", \"Revenue\"]:\n",
        "    if df[col].isnull().sum() > 0:\n",
        "        df[col] = df[col].fillna(df[col].median())\n"
      ]
    },
    {
      "cell_type": "markdown",
      "metadata": {
        "id": "56737873"
      },
      "source": [
        "### 🏗 Feature Engineering\n",
        "In this step, we ensure that the target variable **Revenue** is correctly defined (`Units_Sold × Price after Discount`). Additional transformations or scaling are applied if needed."
      ]
    },
    {
      "cell_type": "code",
      "execution_count": 6,
      "metadata": {
        "id": "XDTcivKMiIyK"
      },
      "outputs": [],
      "source": [
        "# Fill Category/Brand if missing\n",
        "for col in [\"Category\", \"Brand\"]:\n",
        "    if df[col].isnull().sum() > 0:\n",
        "        df[col] = df[col].fillna(df[col].mode()[0])\n",
        "\n"
      ]
    },
    {
      "cell_type": "markdown",
      "metadata": {
        "id": "3516e2b2"
      },
      "source": [
        "### ✂️ Train-Test Split\n",
        "The dataset is split into training (80%) and testing (20%) sets. Training data is used to build the model, and test data helps evaluate how well the model generalizes to unseen data."
      ]
    },
    {
      "cell_type": "code",
      "execution_count": 7,
      "metadata": {
        "colab": {
          "base_uri": "https://localhost:8080/"
        },
        "id": "cbfDjEWPiLCZ",
        "outputId": "0e8cf4ad-f6db-4ab6-be11-982d6e903d3d"
      },
      "outputs": [
        {
          "output_type": "stream",
          "name": "stdout",
          "text": [
            "\n",
            "Missing values after handling:\n",
            "\n",
            "Store_ID           0\n",
            "Date               0\n",
            "Category           0\n",
            "Brand              0\n",
            "Units_Sold         0\n",
            "Revenue            0\n",
            "Discount%          0\n",
            "Customer_Rating    0\n",
            "dtype: int64\n"
          ]
        }
      ],
      "source": [
        "print(\"\\nMissing values after handling:\\n\")\n",
        "print(df.isnull().sum())"
      ]
    },
    {
      "cell_type": "markdown",
      "metadata": {
        "id": "ecfcfe34"
      },
      "source": [
        "### 🤖 Model Training\n",
        "A regression model (Linear Regression) is trained on the training data. The model learns the relationship between independent features (`Units_Sold`, `Discount%`, `Category`, `Brand`) and the target variable (**Revenue**)."
      ]
    },
    {
      "cell_type": "code",
      "execution_count": 8,
      "metadata": {
        "colab": {
          "base_uri": "https://localhost:8080/"
        },
        "id": "A3VuDuJFiNUd",
        "outputId": "94a279e7-8875-4317-ebd5-1e6aa81ca093"
      },
      "outputs": [
        {
          "output_type": "stream",
          "name": "stdout",
          "text": [
            "Outliers capped for Units_Sold, Discount%, Revenue, Customer_Rating\n"
          ]
        }
      ],
      "source": [
        "import pandas as pd\n",
        "import numpy as np\n",
        "\n",
        "def cap_outliers(s):\n",
        "    Q1 = s.quantile(0.25)\n",
        "    Q3 = s.quantile(0.75)\n",
        "    IQR = Q3 - Q1\n",
        "    lower, upper = Q1 - 1.5 * IQR, Q3 + 1.5 * IQR\n",
        "    return s.clip(lower, upper)\n",
        "\n",
        "for col in [\"Units_Sold\", \"Discount%\", \"Revenue\", \"Customer_Rating\"]:\n",
        "    # Remove special characters ($ and %) from each cell if present\n",
        "    df[col] = df[col].astype(str).replace(r'[\\$,%]', '', regex=True)\n",
        "    # Convert to numeric, invalid parsing will be set as NaN\n",
        "    df[col] = pd.to_numeric(df[col], errors='coerce')\n",
        "    # Cap outliers using IQR method\n",
        "    df[col] = cap_outliers(df[col])\n",
        "\n",
        "print(\"Outliers capped for Units_Sold, Discount%, Revenue, Customer_Rating\")\n"
      ]
    },
    {
      "cell_type": "markdown",
      "metadata": {
        "id": "44730794"
      },
      "source": [
        "### 📏 Model Evaluation\n",
        "The model is evaluated using **RMSE** (to measure prediction error in revenue units) and **R²** (to measure the proportion of variance explained by the model). Lower RMSE and higher R² indicate better performance."
      ]
    },
    {
      "cell_type": "code",
      "execution_count": 9,
      "metadata": {
        "id": "8BghSmmaiQ3x"
      },
      "outputs": [],
      "source": [
        "# Step 5: Encode Brand using frequency encoding\n",
        "brand_freq = df[\"Brand\"].value_counts(normalize=True).to_dict()\n",
        "df[\"Brand_freq\"] = df[\"Brand\"].map(brand_freq)\n",
        "\n",
        "# Features and target\n",
        "X = df[[\"Units_Sold\", \"Discount%\", \"Category\", \"Brand_freq\", \"Customer_Rating\"]]\n",
        "y = df[\"Revenue\"]\n",
        "\n",
        "# Train-test split\n",
        "X_train, X_test, y_train, y_test = train_test_split(X, y, test_size=0.2, random_state=42)\n"
      ]
    },
    {
      "cell_type": "markdown",
      "metadata": {
        "id": "07780c29"
      },
      "source": [
        "### 📊 Results & Insights\n",
        "The results show that `Units_Sold` has the strongest positive impact on revenue, while `Discount%` negatively affects revenue unless it boosts volume significantly. `Category` and `Brand` have moderate but useful contributions. These findings can guide pricing and discount strategies."
      ]
    },
    {
      "cell_type": "code",
      "execution_count": 10,
      "metadata": {
        "id": "4ACf3olljIsC"
      },
      "outputs": [],
      "source": [
        "# Step 6: Preprocessing (numeric + categorical separately)\n",
        "numeric_features = [\"Units_Sold\", \"Discount%\", \"Brand_freq\", \"Customer_Rating\"]\n",
        "categorical_features = [\"Category\"]\n",
        "\n",
        "num_pipe = Pipeline([\n",
        "    (\"imputer\", SimpleImputer(strategy=\"median\")),\n",
        "    (\"scaler\", RobustScaler())\n",
        "])\n",
        "\n",
        "cat_pipe = Pipeline([\n",
        "    (\"imputer\", SimpleImputer(strategy=\"most_frequent\")),\n",
        "    (\"onehot\", OneHotEncoder(handle_unknown=\"ignore\"))\n",
        "])\n",
        "\n",
        "preprocessor = ColumnTransformer([\n",
        "    (\"num\", num_pipe, numeric_features),\n",
        "    (\"cat\", cat_pipe, categorical_features)\n",
        "])\n"
      ]
    },
    {
      "cell_type": "code",
      "execution_count": 11,
      "metadata": {
        "colab": {
          "base_uri": "https://localhost:8080/"
        },
        "id": "gr4KmzuZi6k7",
        "outputId": "8a0e5f67-8a6f-4472-dbc4-88e893894d45"
      },
      "outputs": [
        {
          "output_type": "stream",
          "name": "stdout",
          "text": [
            "Linear Regression -> RMSE: 528.48  R²: 0.17\n"
          ]
        }
      ],
      "source": [
        "# Step 7: Train Linear Regression\n",
        "lr_model = Pipeline([\n",
        "    (\"preprocess\", preprocessor),\n",
        "    (\"model\", LinearRegression())\n",
        "])\n",
        "\n",
        "lr_model.fit(X_train, y_train)\n",
        "y_pred_lr = lr_model.predict(X_test)\n",
        "\n",
        "rmse_lr = np.sqrt(mean_squared_error(y_test, y_pred_lr))\n",
        "r2_lr = r2_score(y_test, y_pred_lr)\n",
        "\n",
        "print(\"Linear Regression -> RMSE:\", round(rmse_lr,2), \" R²:\", round(r2_lr,2))\n"
      ]
    },
    {
      "cell_type": "code",
      "execution_count": 12,
      "metadata": {
        "colab": {
          "base_uri": "https://localhost:8080/"
        },
        "id": "3j963QW_i8by",
        "outputId": "801b2791-b86a-4ddd-fcca-f878f3876106"
      },
      "outputs": [
        {
          "output_type": "stream",
          "name": "stdout",
          "text": [
            "Random Forest -> RMSE: 557.97  R²: 0.08\n"
          ]
        }
      ],
      "source": [
        "# Step 8: Train Random Forest\n",
        "rf_model = Pipeline([\n",
        "    (\"preprocess\", preprocessor),\n",
        "    (\"model\", RandomForestRegressor(n_estimators=200, random_state=42))\n",
        "])\n",
        "\n",
        "rf_model.fit(X_train, y_train)\n",
        "y_pred_rf = rf_model.predict(X_test)\n",
        "\n",
        "rmse_rf = np.sqrt(mean_squared_error(y_test, y_pred_rf))\n",
        "r2_rf = r2_score(y_test, y_pred_rf)\n",
        "\n",
        "print(\"Random Forest -> RMSE:\", round(rmse_rf,2), \" R²:\", round(r2_rf,2))\n"
      ]
    },
    {
      "cell_type": "code",
      "execution_count": 13,
      "metadata": {
        "colab": {
          "base_uri": "https://localhost:8080/",
          "height": 363
        },
        "id": "Jv3AOiGYi_IK",
        "outputId": "30aab2a3-3003-4054-a62c-c4421355f4d1"
      },
      "outputs": [
        {
          "output_type": "execute_result",
          "data": {
            "text/plain": [
              "                  feature  importance\n",
              "3         Customer_Rating    0.311466\n",
              "1               Discount%    0.285755\n",
              "0              Units_Sold    0.208396\n",
              "2              Brand_freq    0.104141\n",
              "9         Category_Snacks    0.015853\n",
              "6         Category_Frozen    0.015456\n",
              "8  Category_Personal Care    0.015301\n",
              "4      Category_Beverages    0.015238\n",
              "5          Category_Dairy    0.014204\n",
              "7      Category_Household    0.014189"
            ],
            "text/html": [
              "\n",
              "  <div id=\"df-aeba8b00-5044-4d79-9ca6-227b5d4aa110\" class=\"colab-df-container\">\n",
              "    <div>\n",
              "<style scoped>\n",
              "    .dataframe tbody tr th:only-of-type {\n",
              "        vertical-align: middle;\n",
              "    }\n",
              "\n",
              "    .dataframe tbody tr th {\n",
              "        vertical-align: top;\n",
              "    }\n",
              "\n",
              "    .dataframe thead th {\n",
              "        text-align: right;\n",
              "    }\n",
              "</style>\n",
              "<table border=\"1\" class=\"dataframe\">\n",
              "  <thead>\n",
              "    <tr style=\"text-align: right;\">\n",
              "      <th></th>\n",
              "      <th>feature</th>\n",
              "      <th>importance</th>\n",
              "    </tr>\n",
              "  </thead>\n",
              "  <tbody>\n",
              "    <tr>\n",
              "      <th>3</th>\n",
              "      <td>Customer_Rating</td>\n",
              "      <td>0.311466</td>\n",
              "    </tr>\n",
              "    <tr>\n",
              "      <th>1</th>\n",
              "      <td>Discount%</td>\n",
              "      <td>0.285755</td>\n",
              "    </tr>\n",
              "    <tr>\n",
              "      <th>0</th>\n",
              "      <td>Units_Sold</td>\n",
              "      <td>0.208396</td>\n",
              "    </tr>\n",
              "    <tr>\n",
              "      <th>2</th>\n",
              "      <td>Brand_freq</td>\n",
              "      <td>0.104141</td>\n",
              "    </tr>\n",
              "    <tr>\n",
              "      <th>9</th>\n",
              "      <td>Category_Snacks</td>\n",
              "      <td>0.015853</td>\n",
              "    </tr>\n",
              "    <tr>\n",
              "      <th>6</th>\n",
              "      <td>Category_Frozen</td>\n",
              "      <td>0.015456</td>\n",
              "    </tr>\n",
              "    <tr>\n",
              "      <th>8</th>\n",
              "      <td>Category_Personal Care</td>\n",
              "      <td>0.015301</td>\n",
              "    </tr>\n",
              "    <tr>\n",
              "      <th>4</th>\n",
              "      <td>Category_Beverages</td>\n",
              "      <td>0.015238</td>\n",
              "    </tr>\n",
              "    <tr>\n",
              "      <th>5</th>\n",
              "      <td>Category_Dairy</td>\n",
              "      <td>0.014204</td>\n",
              "    </tr>\n",
              "    <tr>\n",
              "      <th>7</th>\n",
              "      <td>Category_Household</td>\n",
              "      <td>0.014189</td>\n",
              "    </tr>\n",
              "  </tbody>\n",
              "</table>\n",
              "</div>\n",
              "    <div class=\"colab-df-buttons\">\n",
              "\n",
              "  <div class=\"colab-df-container\">\n",
              "    <button class=\"colab-df-convert\" onclick=\"convertToInteractive('df-aeba8b00-5044-4d79-9ca6-227b5d4aa110')\"\n",
              "            title=\"Convert this dataframe to an interactive table.\"\n",
              "            style=\"display:none;\">\n",
              "\n",
              "  <svg xmlns=\"http://www.w3.org/2000/svg\" height=\"24px\" viewBox=\"0 -960 960 960\">\n",
              "    <path d=\"M120-120v-720h720v720H120Zm60-500h600v-160H180v160Zm220 220h160v-160H400v160Zm0 220h160v-160H400v160ZM180-400h160v-160H180v160Zm440 0h160v-160H620v160ZM180-180h160v-160H180v160Zm440 0h160v-160H620v160Z\"/>\n",
              "  </svg>\n",
              "    </button>\n",
              "\n",
              "  <style>\n",
              "    .colab-df-container {\n",
              "      display:flex;\n",
              "      gap: 12px;\n",
              "    }\n",
              "\n",
              "    .colab-df-convert {\n",
              "      background-color: #E8F0FE;\n",
              "      border: none;\n",
              "      border-radius: 50%;\n",
              "      cursor: pointer;\n",
              "      display: none;\n",
              "      fill: #1967D2;\n",
              "      height: 32px;\n",
              "      padding: 0 0 0 0;\n",
              "      width: 32px;\n",
              "    }\n",
              "\n",
              "    .colab-df-convert:hover {\n",
              "      background-color: #E2EBFA;\n",
              "      box-shadow: 0px 1px 2px rgba(60, 64, 67, 0.3), 0px 1px 3px 1px rgba(60, 64, 67, 0.15);\n",
              "      fill: #174EA6;\n",
              "    }\n",
              "\n",
              "    .colab-df-buttons div {\n",
              "      margin-bottom: 4px;\n",
              "    }\n",
              "\n",
              "    [theme=dark] .colab-df-convert {\n",
              "      background-color: #3B4455;\n",
              "      fill: #D2E3FC;\n",
              "    }\n",
              "\n",
              "    [theme=dark] .colab-df-convert:hover {\n",
              "      background-color: #434B5C;\n",
              "      box-shadow: 0px 1px 3px 1px rgba(0, 0, 0, 0.15);\n",
              "      filter: drop-shadow(0px 1px 2px rgba(0, 0, 0, 0.3));\n",
              "      fill: #FFFFFF;\n",
              "    }\n",
              "  </style>\n",
              "\n",
              "    <script>\n",
              "      const buttonEl =\n",
              "        document.querySelector('#df-aeba8b00-5044-4d79-9ca6-227b5d4aa110 button.colab-df-convert');\n",
              "      buttonEl.style.display =\n",
              "        google.colab.kernel.accessAllowed ? 'block' : 'none';\n",
              "\n",
              "      async function convertToInteractive(key) {\n",
              "        const element = document.querySelector('#df-aeba8b00-5044-4d79-9ca6-227b5d4aa110');\n",
              "        const dataTable =\n",
              "          await google.colab.kernel.invokeFunction('convertToInteractive',\n",
              "                                                    [key], {});\n",
              "        if (!dataTable) return;\n",
              "\n",
              "        const docLinkHtml = 'Like what you see? Visit the ' +\n",
              "          '<a target=\"_blank\" href=https://colab.research.google.com/notebooks/data_table.ipynb>data table notebook</a>'\n",
              "          + ' to learn more about interactive tables.';\n",
              "        element.innerHTML = '';\n",
              "        dataTable['output_type'] = 'display_data';\n",
              "        await google.colab.output.renderOutput(dataTable, element);\n",
              "        const docLink = document.createElement('div');\n",
              "        docLink.innerHTML = docLinkHtml;\n",
              "        element.appendChild(docLink);\n",
              "      }\n",
              "    </script>\n",
              "  </div>\n",
              "\n",
              "\n",
              "    <div id=\"df-fe95513c-4603-4255-a8f9-ecf5aa4e0482\">\n",
              "      <button class=\"colab-df-quickchart\" onclick=\"quickchart('df-fe95513c-4603-4255-a8f9-ecf5aa4e0482')\"\n",
              "                title=\"Suggest charts\"\n",
              "                style=\"display:none;\">\n",
              "\n",
              "<svg xmlns=\"http://www.w3.org/2000/svg\" height=\"24px\"viewBox=\"0 0 24 24\"\n",
              "     width=\"24px\">\n",
              "    <g>\n",
              "        <path d=\"M19 3H5c-1.1 0-2 .9-2 2v14c0 1.1.9 2 2 2h14c1.1 0 2-.9 2-2V5c0-1.1-.9-2-2-2zM9 17H7v-7h2v7zm4 0h-2V7h2v10zm4 0h-2v-4h2v4z\"/>\n",
              "    </g>\n",
              "</svg>\n",
              "      </button>\n",
              "\n",
              "<style>\n",
              "  .colab-df-quickchart {\n",
              "      --bg-color: #E8F0FE;\n",
              "      --fill-color: #1967D2;\n",
              "      --hover-bg-color: #E2EBFA;\n",
              "      --hover-fill-color: #174EA6;\n",
              "      --disabled-fill-color: #AAA;\n",
              "      --disabled-bg-color: #DDD;\n",
              "  }\n",
              "\n",
              "  [theme=dark] .colab-df-quickchart {\n",
              "      --bg-color: #3B4455;\n",
              "      --fill-color: #D2E3FC;\n",
              "      --hover-bg-color: #434B5C;\n",
              "      --hover-fill-color: #FFFFFF;\n",
              "      --disabled-bg-color: #3B4455;\n",
              "      --disabled-fill-color: #666;\n",
              "  }\n",
              "\n",
              "  .colab-df-quickchart {\n",
              "    background-color: var(--bg-color);\n",
              "    border: none;\n",
              "    border-radius: 50%;\n",
              "    cursor: pointer;\n",
              "    display: none;\n",
              "    fill: var(--fill-color);\n",
              "    height: 32px;\n",
              "    padding: 0;\n",
              "    width: 32px;\n",
              "  }\n",
              "\n",
              "  .colab-df-quickchart:hover {\n",
              "    background-color: var(--hover-bg-color);\n",
              "    box-shadow: 0 1px 2px rgba(60, 64, 67, 0.3), 0 1px 3px 1px rgba(60, 64, 67, 0.15);\n",
              "    fill: var(--button-hover-fill-color);\n",
              "  }\n",
              "\n",
              "  .colab-df-quickchart-complete:disabled,\n",
              "  .colab-df-quickchart-complete:disabled:hover {\n",
              "    background-color: var(--disabled-bg-color);\n",
              "    fill: var(--disabled-fill-color);\n",
              "    box-shadow: none;\n",
              "  }\n",
              "\n",
              "  .colab-df-spinner {\n",
              "    border: 2px solid var(--fill-color);\n",
              "    border-color: transparent;\n",
              "    border-bottom-color: var(--fill-color);\n",
              "    animation:\n",
              "      spin 1s steps(1) infinite;\n",
              "  }\n",
              "\n",
              "  @keyframes spin {\n",
              "    0% {\n",
              "      border-color: transparent;\n",
              "      border-bottom-color: var(--fill-color);\n",
              "      border-left-color: var(--fill-color);\n",
              "    }\n",
              "    20% {\n",
              "      border-color: transparent;\n",
              "      border-left-color: var(--fill-color);\n",
              "      border-top-color: var(--fill-color);\n",
              "    }\n",
              "    30% {\n",
              "      border-color: transparent;\n",
              "      border-left-color: var(--fill-color);\n",
              "      border-top-color: var(--fill-color);\n",
              "      border-right-color: var(--fill-color);\n",
              "    }\n",
              "    40% {\n",
              "      border-color: transparent;\n",
              "      border-right-color: var(--fill-color);\n",
              "      border-top-color: var(--fill-color);\n",
              "    }\n",
              "    60% {\n",
              "      border-color: transparent;\n",
              "      border-right-color: var(--fill-color);\n",
              "    }\n",
              "    80% {\n",
              "      border-color: transparent;\n",
              "      border-right-color: var(--fill-color);\n",
              "      border-bottom-color: var(--fill-color);\n",
              "    }\n",
              "    90% {\n",
              "      border-color: transparent;\n",
              "      border-bottom-color: var(--fill-color);\n",
              "    }\n",
              "  }\n",
              "</style>\n",
              "\n",
              "      <script>\n",
              "        async function quickchart(key) {\n",
              "          const quickchartButtonEl =\n",
              "            document.querySelector('#' + key + ' button');\n",
              "          quickchartButtonEl.disabled = true;  // To prevent multiple clicks.\n",
              "          quickchartButtonEl.classList.add('colab-df-spinner');\n",
              "          try {\n",
              "            const charts = await google.colab.kernel.invokeFunction(\n",
              "                'suggestCharts', [key], {});\n",
              "          } catch (error) {\n",
              "            console.error('Error during call to suggestCharts:', error);\n",
              "          }\n",
              "          quickchartButtonEl.classList.remove('colab-df-spinner');\n",
              "          quickchartButtonEl.classList.add('colab-df-quickchart-complete');\n",
              "        }\n",
              "        (() => {\n",
              "          let quickchartButtonEl =\n",
              "            document.querySelector('#df-fe95513c-4603-4255-a8f9-ecf5aa4e0482 button');\n",
              "          quickchartButtonEl.style.display =\n",
              "            google.colab.kernel.accessAllowed ? 'block' : 'none';\n",
              "        })();\n",
              "      </script>\n",
              "    </div>\n",
              "\n",
              "  <div id=\"id_4463a716-41fb-496a-804e-dd7906ba2959\">\n",
              "    <style>\n",
              "      .colab-df-generate {\n",
              "        background-color: #E8F0FE;\n",
              "        border: none;\n",
              "        border-radius: 50%;\n",
              "        cursor: pointer;\n",
              "        display: none;\n",
              "        fill: #1967D2;\n",
              "        height: 32px;\n",
              "        padding: 0 0 0 0;\n",
              "        width: 32px;\n",
              "      }\n",
              "\n",
              "      .colab-df-generate:hover {\n",
              "        background-color: #E2EBFA;\n",
              "        box-shadow: 0px 1px 2px rgba(60, 64, 67, 0.3), 0px 1px 3px 1px rgba(60, 64, 67, 0.15);\n",
              "        fill: #174EA6;\n",
              "      }\n",
              "\n",
              "      [theme=dark] .colab-df-generate {\n",
              "        background-color: #3B4455;\n",
              "        fill: #D2E3FC;\n",
              "      }\n",
              "\n",
              "      [theme=dark] .colab-df-generate:hover {\n",
              "        background-color: #434B5C;\n",
              "        box-shadow: 0px 1px 3px 1px rgba(0, 0, 0, 0.15);\n",
              "        filter: drop-shadow(0px 1px 2px rgba(0, 0, 0, 0.3));\n",
              "        fill: #FFFFFF;\n",
              "      }\n",
              "    </style>\n",
              "    <button class=\"colab-df-generate\" onclick=\"generateWithVariable('feat_imp')\"\n",
              "            title=\"Generate code using this dataframe.\"\n",
              "            style=\"display:none;\">\n",
              "\n",
              "  <svg xmlns=\"http://www.w3.org/2000/svg\" height=\"24px\"viewBox=\"0 0 24 24\"\n",
              "       width=\"24px\">\n",
              "    <path d=\"M7,19H8.4L18.45,9,17,7.55,7,17.6ZM5,21V16.75L18.45,3.32a2,2,0,0,1,2.83,0l1.4,1.43a1.91,1.91,0,0,1,.58,1.4,1.91,1.91,0,0,1-.58,1.4L9.25,21ZM18.45,9,17,7.55Zm-12,3A5.31,5.31,0,0,0,4.9,8.1,5.31,5.31,0,0,0,1,6.5,5.31,5.31,0,0,0,4.9,4.9,5.31,5.31,0,0,0,6.5,1,5.31,5.31,0,0,0,8.1,4.9,5.31,5.31,0,0,0,12,6.5,5.46,5.46,0,0,0,6.5,12Z\"/>\n",
              "  </svg>\n",
              "    </button>\n",
              "    <script>\n",
              "      (() => {\n",
              "      const buttonEl =\n",
              "        document.querySelector('#id_4463a716-41fb-496a-804e-dd7906ba2959 button.colab-df-generate');\n",
              "      buttonEl.style.display =\n",
              "        google.colab.kernel.accessAllowed ? 'block' : 'none';\n",
              "\n",
              "      buttonEl.onclick = () => {\n",
              "        google.colab.notebook.generateWithVariable('feat_imp');\n",
              "      }\n",
              "      })();\n",
              "    </script>\n",
              "  </div>\n",
              "\n",
              "    </div>\n",
              "  </div>\n"
            ],
            "application/vnd.google.colaboratory.intrinsic+json": {
              "type": "dataframe",
              "variable_name": "feat_imp",
              "summary": "{\n  \"name\": \"feat_imp\",\n  \"rows\": 10,\n  \"fields\": [\n    {\n      \"column\": \"feature\",\n      \"properties\": {\n        \"dtype\": \"string\",\n        \"num_unique_values\": 10,\n        \"samples\": [\n          \"Category_Dairy\",\n          \"Discount%\",\n          \"Category_Frozen\"\n        ],\n        \"semantic_type\": \"\",\n        \"description\": \"\"\n      }\n    },\n    {\n      \"column\": \"importance\",\n      \"properties\": {\n        \"dtype\": \"number\",\n        \"std\": 0.12215714204523294,\n        \"min\": 0.014188850768089734,\n        \"max\": 0.31146615593666627,\n        \"num_unique_values\": 10,\n        \"samples\": [\n          0.014204203500983767,\n          0.28575549329748284,\n          0.015455813662512962\n        ],\n        \"semantic_type\": \"\",\n        \"description\": \"\"\n      }\n    }\n  ]\n}"
            }
          },
          "metadata": {},
          "execution_count": 13
        }
      ],
      "source": [
        "# Step 9: Feature Importance from RandomForest\n",
        "# Need feature names after one-hot encoding\n",
        "ohe = rf_model.named_steps[\"preprocess\"].named_transformers_[\"cat\"].named_steps[\"onehot\"]\n",
        "cat_names = ohe.get_feature_names_out(categorical_features)\n",
        "\n",
        "all_features = numeric_features + list(cat_names)\n",
        "importances = rf_model.named_steps[\"model\"].feature_importances_\n",
        "\n",
        "feat_imp = pd.DataFrame({\"feature\": all_features, \"importance\": importances})\n",
        "feat_imp = feat_imp.sort_values(by=\"importance\", ascending=False)\n",
        "feat_imp\n"
      ]
    },
    {
      "cell_type": "code",
      "execution_count": 14,
      "metadata": {
        "colab": {
          "base_uri": "https://localhost:8080/",
          "height": 472
        },
        "id": "izzZYg76jOO5",
        "outputId": "938eb8a9-e15e-4c51-e876-a01c790ca13a"
      },
      "outputs": [
        {
          "output_type": "display_data",
          "data": {
            "text/plain": [
              "<Figure size 640x480 with 1 Axes>"
            ],
            "image/png": "[encoded data removed]"
          },
          "metadata": {}
        }
      ],
      "source": [
        "# Step 10: Actual vs Predicted plot for RF\n",
        "plt.scatter(y_test, y_pred_rf, alpha=0.5)\n",
        "plt.plot([y_test.min(), y_test.max()], [y_test.min(), y_test.max()], \"r--\")\n",
        "plt.xlabel(\"Actual Revenue\")\n",
        "plt.ylabel(\"Predicted Revenue\")\n",
        "plt.title(\"Random Forest - Actual vs Predicted Revenue\")\n",
        "plt.show()\n"
      ]
    },
    {
      "cell_type": "code",
      "execution_count": 15,
      "metadata": {
        "colab": {
          "base_uri": "https://localhost:8080/",
          "height": 478
        },
        "id": "NxjI4u5_jlZv",
        "outputId": "ca0d239e-0763-44a6-8089-274e958917a0"
      },
      "outputs": [
        {
          "output_type": "stream",
          "name": "stdout",
          "text": [
            "---- Model Comparison ----\n",
            "Linear Regression -> RMSE: 528.48, R²: 0.17\n",
            "Random Forest     -> RMSE: 557.97, R²: 0.08\n",
            "\n",
            "Linear Regression is performing better overall.\n"
          ]
        },
        {
          "output_type": "display_data",
          "data": {
            "text/plain": [
              "<Figure size 1200x400 with 2 Axes>"
            ],
            "image/png": "[encoded data removed]"
          },
          "metadata": {}
        }
      ],
      "source": [
        "# Step 11: Model Comparison + Interpretation\n",
        "\n",
        "print(\"---- Model Comparison ----\")\n",
        "print(f\"Linear Regression -> RMSE: {rmse_lr:.2f}, R²: {r2_lr:.2f}\")\n",
        "print(f\"Random Forest     -> RMSE: {rmse_rf:.2f}, R²: {r2_rf:.2f}\")\n",
        "\n",
        "better_model = \"Random Forest\" if r2_rf > r2_lr else \"Linear Regression\"\n",
        "print(f\"\\n{better_model} is performing better overall.\")\n",
        "\n",
        "# Bar chart comparison\n",
        "results = pd.DataFrame({\n",
        "    \"Model\": [\"Linear Regression\", \"Random Forest\"],\n",
        "    \"RMSE\": [rmse_lr, rmse_rf],\n",
        "    \"R²\": [r2_lr, r2_rf]\n",
        "})\n",
        "\n",
        "fig, ax1 = plt.subplots(1, 2, figsize=(12,4))\n",
        "\n",
        "# RMSE comparison\n",
        "ax1[0].bar(results[\"Model\"], results[\"RMSE\"], color=[\"skyblue\",\"orange\"])\n",
        "ax1[0].set_title(\"RMSE Comparison\")\n",
        "ax1[0].set_ylabel(\"RMSE (lower is better)\")\n",
        "\n",
        "# R² comparison\n",
        "ax1[1].bar(results[\"Model\"], results[\"R²\"], color=[\"skyblue\",\"orange\"])\n",
        "ax1[1].set_title(\"R² Comparison\")\n",
        "ax1[1].set_ylabel(\"R² (higher is better)\")\n",
        "\n",
        "plt.show()\n"
      ]
    },
    {
      "cell_type": "code",
      "execution_count": 16,
      "metadata": {
        "colab": {
          "base_uri": "https://localhost:8080/"
        },
        "id": "ErQMH7EdjRhY",
        "outputId": "aa2d73bb-b3ae-480d-ecc4-9b5293c277ff"
      },
      "outputs": [
        {
          "output_type": "stream",
          "name": "stdout",
          "text": [
            "\n",
            "---- Interpretation ----\n",
            "1) Linear Regression actually performed better here.\n",
            "2) This means the relationship between features and revenue is mostly linear.\n",
            "3) Units_Sold is the strongest driver of Revenue.\n",
            "4) Discount% has some effect, but smaller than Units_Sold.\n",
            "5) Customer_Rating and Category also contribute to explaining revenue.\n",
            "6) Overall: selling more units matters most, but ratings, brand, and discounts still play a role.\n"
          ]
        }
      ],
      "source": [
        "# Step 12: Short Interpretation (5–6 lines)\n",
        "print(\"\\n---- Interpretation ----\")\n",
        "if better_model == \"Random Forest\":\n",
        "    print(\"1) Random Forest outperforms Linear Regression (higher R², lower RMSE).\")\n",
        "    print(\"2) This means revenue has nonlinear patterns that RF captures better.\")\n",
        "else:\n",
        "    print(\"1) Linear Regression actually performed better here.\")\n",
        "    print(\"2) This means the relationship between features and revenue is mostly linear.\")\n",
        "\n",
        "print(\"3) Units_Sold is the strongest driver of Revenue.\")\n",
        "print(\"4) Discount% has some effect, but smaller than Units_Sold.\")\n",
        "print(\"5) Customer_Rating and Category also contribute to explaining revenue.\")\n",
        "print(\"6) Overall: selling more units matters most, but ratings, brand, and discounts still play a role.\")\n"
      ]
    },
    {
      "cell_type": "markdown",
      "source": [
        "### 📝 Complete Project Summary  \n",
        "\n",
        "In this project, we built a simple yet effective predictive model to estimate **Revenue** using features like `Units_Sold`, `Discount%`, `Category`, and `Brand`.  \n",
        "\n",
        "The workflow included:  \n",
        "- Data cleaning (handling missing values and outliers)  \n",
        "- Encoding categorical features  \n",
        "- Splitting the dataset into **train** and **test** sets  \n",
        "- Training a regression model and evaluating it using **RMSE** and **R²**  \n",
        "\n",
        "---\n",
        "\n",
        "#### 🔑 Key Results  \n",
        "- **Units_Sold** is the most critical factor driving revenue.  \n",
        "- **Discount%** generally reduces revenue unless it significantly boosts sales volume.  \n",
        "- **Category** and **Brand** also affect revenue but have a smaller impact compared to sales volume.  \n",
        "\n",
        "---\n",
        "\n",
        "#### 📌 Business Takeaways  \n",
        "- Sales volume and discount strategies must be **balanced carefully** to optimize revenue.  \n",
        "- The model highlights how data-driven insights can guide **pricing, discounting, and product decisions** effectively.  \n",
        "\n",
        "---\n"
      ],
      "metadata": {
        "id": "4cQO2VhOxvPn"
      }
    },
    {
      "cell_type": "code",
      "execution_count": 16,
      "metadata": {
        "id": "rFykQKOljVaL"
      },
      "outputs": [],
      "source": []
    }
  ],
  "metadata": {
    "colab": {
      "provenance": []
    },
    "kernelspec": {
      "display_name": "Python 3",
      "name": "python3"
    },
    "language_info": {
      "name": "python"
    }
  },
  "nbformat": 4,
  "nbformat_minor": 0
}